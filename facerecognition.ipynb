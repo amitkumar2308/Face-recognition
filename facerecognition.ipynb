{
 "cells": [
  {
   "cell_type": "code",
   "execution_count": null,
   "metadata": {},
   "outputs": [
    {
     "name": "stdout",
     "output_type": "stream",
     "text": [
      "✅ 0 Images saved for amit\n"
     ]
    }
   ],
   "source": [
    "import cv2\n",
    "import os\n",
    "\n",
    "# Folder jisme images store hongi\n",
    "FACE_DIR = \"faces/\"\n",
    "os.makedirs(FACE_DIR, exist_ok=True)\n",
    "\n",
    "def capture_images(name):\n",
    "    cap = cv2.VideoCapture(0)\n",
    "    count = 0\n",
    "    user_folder = os.path.join(FACE_DIR, name)\n",
    "    os.makedirs(user_folder, exist_ok=True)  # Folder create karega\n",
    "\n",
    "    while count < 50:  # 50 images collect karega\n",
    "        ret, frame = cap.read()\n",
    "        if not ret:\n",
    "            break\n",
    "\n",
    "        count += 1\n",
    "        face_path = f\"{user_folder}/{count}.jpg\"\n",
    "        cv2.imwrite(face_path, frame)  # Pure image save karega bina crop kiye\n",
    "\n",
    "        cv2.imshow(\"Capturing Face\", frame)\n",
    "\n",
    "        if cv2.waitKey(1) & 0xFF == ord('q'):  \n",
    "            break\n",
    "\n",
    "    cap.release()\n",
    "    cv2.destroyAllWindows()\n",
    "    print(f\"✅ {count} Images saved for {name}\")\n",
    "\n",
    "# **User ka naam input lo**\n",
    "user_name = input(\"Enter your name: \")\n",
    "capture_images(user_name)\n"
   ]
  },
  {
   "cell_type": "code",
   "execution_count": 7,
   "metadata": {},
   "outputs": [
    {
     "ename": "ModuleNotFoundError",
     "evalue": "No module named 'face_recognition'",
     "output_type": "error",
     "traceback": [
      "\u001b[31m---------------------------------------------------------------------------\u001b[39m",
      "\u001b[31mModuleNotFoundError\u001b[39m                       Traceback (most recent call last)",
      "\u001b[36mCell\u001b[39m\u001b[36m \u001b[39m\u001b[32mIn[7]\u001b[39m\u001b[32m, line 1\u001b[39m\n\u001b[32m----> \u001b[39m\u001b[32m1\u001b[39m \u001b[38;5;28;01mimport\u001b[39;00m\u001b[38;5;250m \u001b[39m\u001b[34;01mface_recognition\u001b[39;00m\n\u001b[32m      2\u001b[39m \u001b[38;5;28;01mimport\u001b[39;00m\u001b[38;5;250m \u001b[39m\u001b[34;01mpickle\u001b[39;00m\n\u001b[32m      3\u001b[39m \u001b[38;5;28;01mimport\u001b[39;00m\u001b[38;5;250m \u001b[39m\u001b[34;01mos\u001b[39;00m\n",
      "\u001b[31mModuleNotFoundError\u001b[39m: No module named 'face_recognition'"
     ]
    }
   ],
   "source": [
    "import face_recognition\n",
    "import pickle\n",
    "import os\n",
    "\n",
    "encodings = []\n",
    "names = []\n",
    "\n",
    "for user_folder in os.listdir(\"images\"):\n",
    "    for file in os.listdir(f\"images/{user_folder}\"):\n",
    "        img_path = f\"images/{user_folder}/{file}\"\n",
    "        image = face_recognition.load_image_file(img_path)\n",
    "        try:\n",
    "            encoding = face_recognition.face_encodings(image)[0]\n",
    "            encodings.append(encoding)\n",
    "            names.append(user_folder)\n",
    "        except:\n",
    "            continue\n",
    "\n",
    "data = {\"encodings\": encodings, \"names\": names}\n",
    "with open(\"face_encodings.pkl\", \"wb\") as f:\n",
    "    pickle.dump(data, f)\n"
   ]
  }
 ],
 "metadata": {
  "kernelspec": {
   "display_name": "venv",
   "language": "python",
   "name": "python3"
  },
  "language_info": {
   "codemirror_mode": {
    "name": "ipython",
    "version": 3
   },
   "file_extension": ".py",
   "mimetype": "text/x-python",
   "name": "python",
   "nbconvert_exporter": "python",
   "pygments_lexer": "ipython3",
   "version": "3.12.6"
  }
 },
 "nbformat": 4,
 "nbformat_minor": 2
}
